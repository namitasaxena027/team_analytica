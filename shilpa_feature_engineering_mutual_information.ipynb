{
 "cells": [
  {
   "cell_type": "code",
   "execution_count": 1,
   "id": "46fda9ef",
   "metadata": {},
   "outputs": [
    {
     "name": "stderr",
     "output_type": "stream",
     "text": [
      "C:\\Users\\shgupta\\AppData\\Local\\Temp\\ipykernel_3520\\2035973458.py:10: FutureWarning: Dropping of nuisance columns in DataFrame reductions (with 'numeric_only=None') is deprecated; in a future version this will raise TypeError.  Select only valid columns before calling the reduction.\n",
      "  home_data.fillna(home_data.mean(), inplace=True)\n"
     ]
    },
    {
     "name": "stdout",
     "output_type": "stream",
     "text": [
      "Index(['MSSubClass', 'OverallQual', 'YearBuilt', 'YearRemodAdd', 'TotalBsmtSF',\n",
      "       '1stFlrSF', 'GrLivArea', 'GarageYrBlt', 'GarageCars', 'GarageArea'],\n",
      "      dtype='object')\n"
     ]
    }
   ],
   "source": [
    "import pandas as pd\n",
    "import numpy as np\n",
    "from sklearn.feature_selection import SelectKBest, mutual_info_regression\n",
    "from sklearn.preprocessing import MinMaxScaler\n",
    "\n",
    "# Read in the data\n",
    "home_data = pd.read_csv(\"C:\\\\Users\\\\shgupta\\\\OneDrive - Five9\\\\Documents\\\\Analytica\\\\train.csv\")\n",
    "\n",
    "# Perform mean imputation on missing values\n",
    "home_data.fillna(home_data.mean(), inplace=True)\n",
    "\n",
    "# Perform one-hot encoding on categorical variables\n",
    "categorical_features = ['MSZoning', 'Street', 'Alley', 'LotShape', 'LandContour', 'Utilities', 'LotConfig', 'LandSlope', 'Neighborhood', 'Condition1', 'Condition2', 'BldgType', 'HouseStyle', 'RoofStyle', 'RoofMatl', 'Exterior1st', 'Exterior2nd', 'MasVnrType', 'ExterQual', 'ExterCond', 'Foundation', 'BsmtQual', 'BsmtCond', 'BsmtExposure', 'BsmtFinType1', 'BsmtFinType2', 'Heating', 'HeatingQC', 'CentralAir', 'Electrical', 'KitchenQual', 'Functional', 'FireplaceQu', 'GarageType', 'GarageFinish', 'GarageQual', 'GarageCond', 'PavedDrive', 'PoolQC', 'Fence', 'MiscFeature', 'SaleType', 'SaleCondition']\n",
    "home_data = pd.get_dummies(home_data, columns=categorical_features)\n",
    "\n",
    "# Create a MinMaxScaler object\n",
    "scaler = MinMaxScaler()\n",
    "\n",
    "# Fit the scaler to the data and transform the data\n",
    "X_scaled = scaler.fit_transform(home_data.drop('SalePrice', axis=1))\n",
    "y = home_data['SalePrice']\n",
    "\n",
    "# Use mutual information to select the top 10 features\n",
    "selector = SelectKBest(mutual_info_regression, k=10)\n",
    "selector.fit(X_scaled, y)\n",
    "\n",
    "# Get the indices of the selected features\n",
    "selected_features_indices = selector.get_support(indices=True)\n",
    "\n",
    "# Get the names of the selected features\n",
    "selected_features = home_data.drop('SalePrice', axis=1).columns[selected_features_indices]\n",
    "\n",
    "# Print the selected features\n",
    "print(selected_features)\n"
   ]
  },
  {
   "cell_type": "code",
   "execution_count": null,
   "id": "013da9c9",
   "metadata": {},
   "outputs": [],
   "source": []
  }
 ],
 "metadata": {
  "kernelspec": {
   "display_name": "Python 3 (ipykernel)",
   "language": "python",
   "name": "python3"
  },
  "language_info": {
   "codemirror_mode": {
    "name": "ipython",
    "version": 3
   },
   "file_extension": ".py",
   "mimetype": "text/x-python",
   "name": "python",
   "nbconvert_exporter": "python",
   "pygments_lexer": "ipython3",
   "version": "3.9.13"
  }
 },
 "nbformat": 4,
 "nbformat_minor": 5
}
