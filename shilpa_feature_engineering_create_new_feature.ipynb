{
 "cells": [
  {
   "cell_type": "code",
   "execution_count": 1,
   "id": "42754bbf",
   "metadata": {},
   "outputs": [
    {
     "name": "stdout",
     "output_type": "stream",
     "text": [
      "   TotalBsmtSF  1stFlrSF  2ndFlrSF  TotalSF\n",
      "0          856       856       854     2566\n",
      "1         1262      1262         0     2524\n",
      "2          920       920       866     2706\n",
      "3          756       961       756     2473\n",
      "4         1145      1145      1053     3343\n"
     ]
    }
   ],
   "source": [
    "import pandas as pd\n",
    "\n",
    "# Read in the data\n",
    "home_data = pd.read_csv(\"C:\\\\Users\\\\shgupta\\\\OneDrive - Five9\\\\Documents\\\\Analytica\\\\train.csv\")\n",
    "\n",
    "# Create a new feature TotalSF\n",
    "home_data['TotalSF'] = home_data['TotalBsmtSF'] + home_data['1stFlrSF'] + home_data['2ndFlrSF']\n",
    "\n",
    "# Check the new feature\n",
    "print(home_data[['TotalBsmtSF', '1stFlrSF', '2ndFlrSF', 'TotalSF']].head())\n"
   ]
  },
  {
   "cell_type": "code",
   "execution_count": null,
   "id": "6d236d48",
   "metadata": {},
   "outputs": [],
   "source": [
    "import pandas as pd\n",
    "import numpy as np\n",
    "from sklearn.preprocessing import MinMaxScaler\n",
    "from sklearn.ensemble import RandomForestRegressor\n",
    "from sklearn.feature_selection import RFECV\n",
    "from sklearn.model_selection import train_test_split\n",
    "from sklearn.linear_model import LinearRegression\n",
    "\n",
    "# Read in the data\n",
    "home_data = pd.read_csv(\"C:\\\\Users\\\\shgupta\\\\OneDrive - Five9\\\\Documents\\\\Analytica\\\\train.csv\")\n",
    "\n",
    "# Perform mean imputation on missing values\n",
    "home_data.fillna(home_data.mean(), inplace=True)\n",
    "\n",
    "# Create a new feature for total square footage\n",
    "home_data['TotalSF'] = home_data['TotalBsmtSF'] + home_data['1stFlrSF'] + home_data['2ndFlrSF']\n",
    "\n",
    "# Perform one-hot encoding on categorical variables\n",
    "categorical_features = ['MSZoning', 'Street', 'Alley', 'LotShape', 'LandContour', 'Utilities', 'LotConfig', 'LandSlope', 'Neighborhood', 'Condition1', 'Condition2', 'BldgType', 'HouseStyle', 'RoofStyle', 'RoofMatl', 'Exterior1st', 'Exterior2nd', 'MasVnrType', 'ExterQual', 'ExterCond', 'Foundation', 'BsmtQual', 'BsmtCond', 'BsmtExposure', 'BsmtFinType1', 'BsmtFinType2', 'Heating', 'HeatingQC', 'CentralAir', 'Electrical', 'KitchenQual', 'Functional', 'FireplaceQu', 'GarageType', 'GarageFinish', 'GarageQual', 'GarageCond', 'PavedDrive', 'PoolQC', 'Fence', 'MiscFeature', 'SaleType', 'SaleCondition']\n",
    "home_data = pd.get_dummies(home_data, columns=categorical_features)\n",
    "\n",
    "# Split the data into features and target variable\n",
    "X = home_data.drop('SalePrice', axis=1)\n",
    "y = home_data['SalePrice']\n",
    "\n",
    "# Create a MinMaxScaler object\n",
    "scaler = MinMaxScaler()\n",
    "\n",
    "# Fit the scaler to the features and transform the features\n",
    "X_scaled = scaler.fit_transform(X)\n",
    "\n",
    "# Create a random forest regressor object\n",
    "rf = RandomForestRegressor(random_state=42)\n",
    "\n",
    "# Perform recursive feature elimination with cross-validation\n",
    "rfecv = RFECV(estimator=rf, step=1, cv=5, scoring='neg_mean_squared_error')\n",
    "rfecv.fit(X_scaled, y)\n",
    "\n",
    "# Print the selected features\n",
    "print(\"Optimal number of features: \", rfecv.n_features_)\n",
    "print(\"Selected features: \", X.columns[rfecv.support_])\n",
    "\n",
    "# Select the important features\n",
    "X_important = rfecv.transform(X_scaled)\n",
    "\n",
    "# Perform train-test split\n",
    "X_train, X_test, y_train, y_test = train_test_split(X_important, y, test_size=0.3, random_state=42)\n",
    "\n",
    "# Fit a linear regression model\n",
    "lr = LinearRegression()\n",
    "lr.fit(X_train, y_train)\n",
    "\n",
    "# Evaluate the model\n",
    "train_score = lr.score(X_train, y_train)\n",
    "test_score = lr.score(X_test, y_test)\n",
    "print(\"Train R^2 score: \", train_score)\n",
    "print(\"Test R^2 score: \", test_score)\n",
    "plt.show()\n",
    "\n"
   ]
  },
  {
   "cell_type": "code",
   "execution_count": null,
   "id": "bd168bd6",
   "metadata": {},
   "outputs": [],
   "source": []
  }
 ],
 "metadata": {
  "kernelspec": {
   "display_name": "Python 3 (ipykernel)",
   "language": "python",
   "name": "python3"
  },
  "language_info": {
   "codemirror_mode": {
    "name": "ipython",
    "version": 3
   },
   "file_extension": ".py",
   "mimetype": "text/x-python",
   "name": "python",
   "nbconvert_exporter": "python",
   "pygments_lexer": "ipython3",
   "version": "3.9.13"
  }
 },
 "nbformat": 4,
 "nbformat_minor": 5
}
