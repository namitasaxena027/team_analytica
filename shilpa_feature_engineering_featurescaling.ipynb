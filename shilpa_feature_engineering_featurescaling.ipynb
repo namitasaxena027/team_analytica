{
 "cells": [
  {
   "cell_type": "code",
   "execution_count": 1,
   "id": "1470eb24",
   "metadata": {},
   "outputs": [
    {
     "name": "stdout",
     "output_type": "stream",
     "text": [
      "   LotArea  LotArea_scaled\n",
      "0     8450        0.033420\n",
      "1     9600        0.038795\n",
      "2    11250        0.046507\n",
      "3     9550        0.038561\n",
      "4    14260        0.060576\n",
      "   LotArea  LotArea_scaled  OverallQual  OverallQual_scaled  OverallCond  \\\n",
      "0     8450        0.033420            7            0.666667            5   \n",
      "1     9600        0.038795            6            0.555556            8   \n",
      "2    11250        0.046507            7            0.666667            5   \n",
      "3     9550        0.038561            7            0.666667            5   \n",
      "4    14260        0.060576            8            0.777778            5   \n",
      "\n",
      "   OverallCond_scaled  \n",
      "0               0.500  \n",
      "1               0.875  \n",
      "2               0.500  \n",
      "3               0.500  \n",
      "4               0.500  \n"
     ]
    }
   ],
   "source": [
    "# Importing necessary libraries\n",
    "import pandas as pd\n",
    "import numpy as np\n",
    "from sklearn.preprocessing import MinMaxScaler\n",
    "\n",
    "# Reading in the data\n",
    "home_data = pd.read_csv(\"C:\\\\Users\\\\shgupta\\\\OneDrive - Five9\\\\Documents\\\\Analytica\\\\train.csv\")\n",
    "\n",
    "# Performing Min-Max scaling on the 'LotArea' feature\n",
    "scaler = MinMaxScaler()\n",
    "home_data['LotArea_scaled'] = scaler.fit_transform(home_data[['LotArea']])\n",
    "print(home_data[['LotArea', 'LotArea_scaled']].head())\n",
    "\n",
    "# Performing Min-Max scaling on multiple features\n",
    "columns_to_scale = ['LotArea', 'OverallQual', 'OverallCond']\n",
    "for column in columns_to_scale:\n",
    "    scaler = MinMaxScaler()\n",
    "    home_data[column + '_scaled'] = scaler.fit_transform(home_data[[column]])\n",
    "    \n",
    "print(home_data[['LotArea', 'LotArea_scaled', 'OverallQual', 'OverallQual_scaled', 'OverallCond', 'OverallCond_scaled']].head())\n"
   ]
  },
  {
   "cell_type": "code",
   "execution_count": 2,
   "id": "8f94ebab",
   "metadata": {},
   "outputs": [
    {
     "ename": "NameError",
     "evalue": "name 'X' is not defined",
     "output_type": "error",
     "traceback": [
      "\u001b[1;31m---------------------------------------------------------------------------\u001b[0m",
      "\u001b[1;31mNameError\u001b[0m                                 Traceback (most recent call last)",
      "\u001b[1;32m~\\AppData\\Local\\Temp\\ipykernel_22216\\2878663849.py\u001b[0m in \u001b[0;36m<module>\u001b[1;34m\u001b[0m\n\u001b[0;32m      6\u001b[0m \u001b[1;33m\u001b[0m\u001b[0m\n\u001b[0;32m      7\u001b[0m \u001b[1;31m# fit and transform the data using the scalers\u001b[0m\u001b[1;33m\u001b[0m\u001b[1;33m\u001b[0m\u001b[0m\n\u001b[1;32m----> 8\u001b[1;33m \u001b[0mX_min_max_scaled\u001b[0m \u001b[1;33m=\u001b[0m \u001b[0mmin_max_scaler\u001b[0m\u001b[1;33m.\u001b[0m\u001b[0mfit_transform\u001b[0m\u001b[1;33m(\u001b[0m\u001b[0mX\u001b[0m\u001b[1;33m)\u001b[0m\u001b[1;33m\u001b[0m\u001b[1;33m\u001b[0m\u001b[0m\n\u001b[0m\u001b[0;32m      9\u001b[0m \u001b[0mX_standard_scaled\u001b[0m \u001b[1;33m=\u001b[0m \u001b[0mstandard_scaler\u001b[0m\u001b[1;33m.\u001b[0m\u001b[0mfit_transform\u001b[0m\u001b[1;33m(\u001b[0m\u001b[0mX\u001b[0m\u001b[1;33m)\u001b[0m\u001b[1;33m\u001b[0m\u001b[1;33m\u001b[0m\u001b[0m\n",
      "\u001b[1;31mNameError\u001b[0m: name 'X' is not defined"
     ]
    }
   ],
   "source": [
    "from sklearn.preprocessing import MinMaxScaler, StandardScaler\n",
    "\n",
    "# create scaler objects\n",
    "min_max_scaler = MinMaxScaler()\n",
    "standard_scaler = StandardScaler()\n",
    "\n",
    "# fit and transform the data using the scalers\n",
    "X_min_max_scaled = min_max_scaler.fit_transform(X)\n",
    "X_standard_scaled = standard_scaler.fit_transform(X)\n"
   ]
  },
  {
   "cell_type": "code",
   "execution_count": 3,
   "id": "d883d6a3",
   "metadata": {},
   "outputs": [],
   "source": [
    "import pandas as pd\n",
    "import numpy as np\n",
    "\n",
    "# read csv file into a pandas dataframe\n",
    "home_data = pd.read_csv(\"C:\\\\Users\\\\shgupta\\\\OneDrive - Five9\\\\Documents\\\\Analytica\\\\train.csv\")\n",
    "\n",
    "# extract the features into a numpy array\n",
    "X = np.array(home_data.drop('SalePrice', axis=1))\n"
   ]
  },
  {
   "cell_type": "code",
   "execution_count": 4,
   "id": "f121be5b",
   "metadata": {},
   "outputs": [
    {
     "name": "stderr",
     "output_type": "stream",
     "text": [
      "C:\\Users\\shgupta\\AppData\\Local\\Temp\\ipykernel_22216\\3890323100.py:7: FutureWarning: Dropping of nuisance columns in DataFrame reductions (with 'numeric_only=None') is deprecated; in a future version this will raise TypeError.  Select only valid columns before calling the reduction.\n",
      "  home_data.fillna(home_data.mean(), inplace=True)\n"
     ]
    }
   ],
   "source": [
    "from sklearn.preprocessing import MinMaxScaler\n",
    "\n",
    "# read csv file into a pandas dataframe\n",
    "home_data = pd.read_csv(\"C:\\\\Users\\\\shgupta\\\\OneDrive - Five9\\\\Documents\\\\Analytica\\\\train.csv\")\n",
    "\n",
    "# perform mean imputation on missing values\n",
    "home_data.fillna(home_data.mean(), inplace=True)\n",
    "\n",
    "# perform one-hot encoding on categorical variables\n",
    "home_data = pd.get_dummies(home_data)\n",
    "\n",
    "# create a MinMaxScaler object\n",
    "scaler = MinMaxScaler()\n",
    "\n",
    "# fit the scaler to the data and transform the data\n",
    "X_scaled = scaler.fit_transform(home_data.drop('SalePrice', axis=1))\n",
    "\n",
    "# the scaled data is now stored in X_scaled\n"
   ]
  },
  {
   "cell_type": "code",
   "execution_count": 5,
   "id": "e19338c5",
   "metadata": {},
   "outputs": [
    {
     "name": "stdout",
     "output_type": "stream",
     "text": [
      "[[0.00000000e+00 2.35294118e-01 1.50684932e-01 ... 0.00000000e+00\n",
      "  1.00000000e+00 0.00000000e+00]\n",
      " [6.85400960e-04 0.00000000e+00 2.02054795e-01 ... 0.00000000e+00\n",
      "  1.00000000e+00 0.00000000e+00]\n",
      " [1.37080192e-03 2.35294118e-01 1.60958904e-01 ... 0.00000000e+00\n",
      "  1.00000000e+00 0.00000000e+00]\n",
      " [2.05620288e-03 2.94117647e-01 1.33561644e-01 ... 0.00000000e+00\n",
      "  0.00000000e+00 0.00000000e+00]\n",
      " [2.74160384e-03 2.35294118e-01 2.15753425e-01 ... 0.00000000e+00\n",
      "  1.00000000e+00 0.00000000e+00]]\n"
     ]
    },
    {
     "name": "stderr",
     "output_type": "stream",
     "text": [
      "C:\\Users\\shgupta\\AppData\\Local\\Temp\\ipykernel_22216\\1480370997.py:7: FutureWarning: Dropping of nuisance columns in DataFrame reductions (with 'numeric_only=None') is deprecated; in a future version this will raise TypeError.  Select only valid columns before calling the reduction.\n",
      "  home_data.fillna(home_data.mean(), inplace=True)\n"
     ]
    }
   ],
   "source": [
    "from sklearn.preprocessing import MinMaxScaler\n",
    "\n",
    "# read csv file into a pandas dataframe\n",
    "home_data = pd.read_csv(\"C:\\\\Users\\\\shgupta\\\\OneDrive - Five9\\\\Documents\\\\Analytica\\\\train.csv\")\n",
    "\n",
    "# perform mean imputation on missing values\n",
    "home_data.fillna(home_data.mean(), inplace=True)\n",
    "\n",
    "# perform one-hot encoding on categorical variables\n",
    "home_data = pd.get_dummies(home_data)\n",
    "\n",
    "# create a MinMaxScaler object\n",
    "scaler = MinMaxScaler()\n",
    "\n",
    "# fit the scaler to the data and transform the data\n",
    "X_scaled = scaler.fit_transform(home_data.drop('SalePrice', axis=1))\n",
    "\n",
    "# print the first few rows of X_scaled\n",
    "print(X_scaled[:5])\n"
   ]
  },
  {
   "cell_type": "code",
   "execution_count": 6,
   "id": "85407dbe",
   "metadata": {},
   "outputs": [
    {
     "name": "stdout",
     "output_type": "stream",
     "text": [
      "Original data:\n",
      "   Id  MSSubClass  LotFrontage  LotArea  OverallQual  OverallCond  YearBuilt  \\\n",
      "0   1          60         65.0     8450            7            5       2003   \n",
      "1   2          20         80.0     9600            6            8       1976   \n",
      "2   3          60         68.0    11250            7            5       2001   \n",
      "3   4          70         60.0     9550            7            5       1915   \n",
      "4   5          60         84.0    14260            8            5       2000   \n",
      "\n",
      "   YearRemodAdd  MasVnrArea  BsmtFinSF1  ...  SaleType_ConLw  SaleType_New  \\\n",
      "0          2003       196.0         706  ...               0             0   \n",
      "1          1976         0.0         978  ...               0             0   \n",
      "2          2002       162.0         486  ...               0             0   \n",
      "3          1970         0.0         216  ...               0             0   \n",
      "4          2000       350.0         655  ...               0             0   \n",
      "\n",
      "   SaleType_Oth  SaleType_WD  SaleCondition_Abnorml  SaleCondition_AdjLand  \\\n",
      "0             0            1                      0                      0   \n",
      "1             0            1                      0                      0   \n",
      "2             0            1                      0                      0   \n",
      "3             0            1                      1                      0   \n",
      "4             0            1                      0                      0   \n",
      "\n",
      "   SaleCondition_Alloca  SaleCondition_Family  SaleCondition_Normal  \\\n",
      "0                     0                     0                     1   \n",
      "1                     0                     0                     1   \n",
      "2                     0                     0                     1   \n",
      "3                     0                     0                     0   \n",
      "4                     0                     0                     1   \n",
      "\n",
      "   SaleCondition_Partial  \n",
      "0                      0  \n",
      "1                      0  \n",
      "2                      0  \n",
      "3                      0  \n",
      "4                      0  \n",
      "\n",
      "[5 rows x 290 columns]\n",
      "Scaled data:\n",
      "         Id  MSSubClass  LotFrontage   LotArea  OverallQual  OverallCond  \\\n",
      "0  0.000000    0.235294     0.150685  0.033420     0.666667        0.500   \n",
      "1  0.000685    0.000000     0.202055  0.038795     0.555556        0.875   \n",
      "2  0.001371    0.235294     0.160959  0.046507     0.666667        0.500   \n",
      "3  0.002056    0.294118     0.133562  0.038561     0.666667        0.500   \n",
      "4  0.002742    0.235294     0.215753  0.060576     0.777778        0.500   \n",
      "\n",
      "   YearBuilt  YearRemodAdd  MasVnrArea  BsmtFinSF1  ...  SaleType_ConLw  \\\n",
      "0   0.949275      0.883333     0.12250    0.125089  ...             0.0   \n",
      "1   0.753623      0.433333     0.00000    0.173281  ...             0.0   \n",
      "2   0.934783      0.866667     0.10125    0.086109  ...             0.0   \n",
      "3   0.311594      0.333333     0.00000    0.038271  ...             0.0   \n",
      "4   0.927536      0.833333     0.21875    0.116052  ...             0.0   \n",
      "\n",
      "   SaleType_New  SaleType_Oth  SaleType_WD  SaleCondition_Abnorml  \\\n",
      "0           0.0           0.0          1.0                    0.0   \n",
      "1           0.0           0.0          1.0                    0.0   \n",
      "2           0.0           0.0          1.0                    0.0   \n",
      "3           0.0           0.0          1.0                    1.0   \n",
      "4           0.0           0.0          1.0                    0.0   \n",
      "\n",
      "   SaleCondition_AdjLand  SaleCondition_Alloca  SaleCondition_Family  \\\n",
      "0                    0.0                   0.0                   0.0   \n",
      "1                    0.0                   0.0                   0.0   \n",
      "2                    0.0                   0.0                   0.0   \n",
      "3                    0.0                   0.0                   0.0   \n",
      "4                    0.0                   0.0                   0.0   \n",
      "\n",
      "   SaleCondition_Normal  SaleCondition_Partial  \n",
      "0                   1.0                    0.0  \n",
      "1                   1.0                    0.0  \n",
      "2                   1.0                    0.0  \n",
      "3                   0.0                    0.0  \n",
      "4                   1.0                    0.0  \n",
      "\n",
      "[5 rows x 289 columns]\n"
     ]
    },
    {
     "name": "stderr",
     "output_type": "stream",
     "text": [
      "C:\\Users\\shgupta\\AppData\\Local\\Temp\\ipykernel_22216\\3040603242.py:9: FutureWarning: Dropping of nuisance columns in DataFrame reductions (with 'numeric_only=None') is deprecated; in a future version this will raise TypeError.  Select only valid columns before calling the reduction.\n",
      "  home_data.fillna(home_data.mean(), inplace=True)\n"
     ]
    }
   ],
   "source": [
    "import pandas as pd\n",
    "import numpy as np\n",
    "from sklearn.preprocessing import MinMaxScaler\n",
    "\n",
    "# Read in the data\n",
    "home_data = pd.read_csv(\"C:\\\\Users\\\\shgupta\\\\OneDrive - Five9\\\\Documents\\\\Analytica\\\\train.csv\")\n",
    "\n",
    "# Perform mean imputation on missing values\n",
    "home_data.fillna(home_data.mean(), inplace=True)\n",
    "\n",
    "# Perform one-hot encoding on categorical variables\n",
    "categorical_features = ['MSZoning', 'Street', 'Alley', 'LotShape', 'LandContour', 'Utilities', 'LotConfig', 'LandSlope', 'Neighborhood', 'Condition1', 'Condition2', 'BldgType', 'HouseStyle', 'RoofStyle', 'RoofMatl', 'Exterior1st', 'Exterior2nd', 'MasVnrType', 'ExterQual', 'ExterCond', 'Foundation', 'BsmtQual', 'BsmtCond', 'BsmtExposure', 'BsmtFinType1', 'BsmtFinType2', 'Heating', 'HeatingQC', 'CentralAir', 'Electrical', 'KitchenQual', 'Functional', 'FireplaceQu', 'GarageType', 'GarageFinish', 'GarageQual', 'GarageCond', 'PavedDrive', 'PoolQC', 'Fence', 'MiscFeature', 'SaleType', 'SaleCondition']\n",
    "home_data = pd.get_dummies(home_data, columns=categorical_features)\n",
    "\n",
    "# Create a MinMaxScaler object\n",
    "scaler = MinMaxScaler()\n",
    "\n",
    "# Fit the scaler to the data and transform the data\n",
    "X_scaled = scaler.fit_transform(home_data.drop('SalePrice', axis=1))\n",
    "\n",
    "# Print the original data\n",
    "print(\"Original data:\")\n",
    "print(home_data.head())\n",
    "\n",
    "# Print the scaled data\n",
    "print(\"Scaled data:\")\n",
    "print(pd.DataFrame(X_scaled, columns=home_data.drop('SalePrice', axis=1).columns).head())\n"
   ]
  },
  {
   "cell_type": "code",
   "execution_count": null,
   "id": "a6d8e614",
   "metadata": {},
   "outputs": [],
   "source": []
  }
 ],
 "metadata": {
  "kernelspec": {
   "display_name": "Python 3 (ipykernel)",
   "language": "python",
   "name": "python3"
  },
  "language_info": {
   "codemirror_mode": {
    "name": "ipython",
    "version": 3
   },
   "file_extension": ".py",
   "mimetype": "text/x-python",
   "name": "python",
   "nbconvert_exporter": "python",
   "pygments_lexer": "ipython3",
   "version": "3.9.13"
  }
 },
 "nbformat": 4,
 "nbformat_minor": 5
}
