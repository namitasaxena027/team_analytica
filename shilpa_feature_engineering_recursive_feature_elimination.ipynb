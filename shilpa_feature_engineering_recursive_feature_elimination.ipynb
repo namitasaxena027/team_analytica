{
 "cells": [
  {
   "cell_type": "code",
   "execution_count": null,
   "id": "f4fbab9d",
   "metadata": {},
   "outputs": [],
   "source": [
    "import pandas as pd\n",
    "import numpy as np\n",
    "from sklearn.preprocessing import MinMaxScaler\n",
    "from sklearn.ensemble import RandomForestRegressor\n",
    "from sklearn.feature_selection import RFECV\n",
    "\n",
    "# Read in the data\n",
    "home_data = pd.read_csv(\"C:\\\\Users\\\\shgupta\\\\OneDrive - Five9\\\\Documents\\\\Analytica\\\\train.csv\")\n",
    "\n",
    "# Perform mean imputation on missing values\n",
    "home_data.fillna(home_data.mean(), inplace=True)\n",
    "\n",
    "# Perform one-hot encoding on categorical variables\n",
    "categorical_features = ['MSZoning', 'Street', 'Alley', 'LotShape', 'LandContour', 'Utilities', 'LotConfig', 'LandSlope', 'Neighborhood', 'Condition1', 'Condition2', 'BldgType', 'HouseStyle', 'RoofStyle', 'RoofMatl', 'Exterior1st', 'Exterior2nd', 'MasVnrType', 'ExterQual', 'ExterCond', 'Foundation', 'BsmtQual', 'BsmtCond', 'BsmtExposure', 'BsmtFinType1', 'BsmtFinType2', 'Heating', 'HeatingQC', 'CentralAir', 'Electrical', 'KitchenQual', 'Functional', 'FireplaceQu', 'GarageType', 'GarageFinish', 'GarageQual', 'GarageCond', 'PavedDrive', 'PoolQC', 'Fence', 'MiscFeature', 'SaleType', 'SaleCondition']\n",
    "home_data = pd.get_dummies(home_data, columns=categorical_features)\n",
    "\n",
    "# Split the data into features and target variable\n",
    "X = home_data.drop('SalePrice', axis=1)\n",
    "y = home_data['SalePrice']\n",
    "\n",
    "# Create a MinMaxScaler object\n",
    "scaler = MinMaxScaler()\n",
    "\n",
    "# Fit the scaler to the features and transform the features\n",
    "X_scaled = scaler.fit_transform(X)\n",
    "\n",
    "# Create a random forest regressor object\n",
    "rf = RandomForestRegressor(random_state=42)\n",
    "\n",
    "# Perform recursive feature elimination with cross-validation\n",
    "rfecv = RFECV(estimator=rf, step=1, cv=5, scoring='neg_mean_squared_error')\n",
    "rfecv.fit(X_scaled, y)\n",
    "\n",
    "# Print the selected features\n",
    "print(\"Optimal number of features: \", rfecv.n_features_)\n",
    "print(\"Selected features: \", X.columns[rfecv.support_])\n",
    "print(\"Selected features: \", X.columns[rfecv.support_].tolist())\n",
    "print(\"RFECV fit completed\")\n",
    "\n",
    "\n",
    "\n"
   ]
  },
  {
   "cell_type": "code",
   "execution_count": null,
   "id": "3ba5765f",
   "metadata": {},
   "outputs": [],
   "source": []
  }
 ],
 "metadata": {
  "kernelspec": {
   "display_name": "Python 3 (ipykernel)",
   "language": "python",
   "name": "python3"
  },
  "language_info": {
   "codemirror_mode": {
    "name": "ipython",
    "version": 3
   },
   "file_extension": ".py",
   "mimetype": "text/x-python",
   "name": "python",
   "nbconvert_exporter": "python",
   "pygments_lexer": "ipython3",
   "version": "3.9.13"
  }
 },
 "nbformat": 4,
 "nbformat_minor": 5
}
