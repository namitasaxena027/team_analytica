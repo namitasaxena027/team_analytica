{
 "cells": [
  {
   "cell_type": "code",
   "execution_count": null,
   "id": "c5d9503d",
   "metadata": {},
   "outputs": [],
   "source": [
    "import pandas as pd\n",
    "import numpy as np\n",
    "from sklearn.preprocessing import MinMaxScaler\n",
    "from sklearn.ensemble import RandomForestRegressor\n",
    "from sklearn.feature_selection import RFECV\n",
    "from sklearn.model_selection import train_test_split\n",
    "from sklearn.metrics import mean_squared_error\n",
    "\n",
    "# Read in the data\n",
    "home_data = pd.read_csv(\"C:\\\\Users\\\\shgupta\\\\OneDrive - Five9\\\\Documents\\\\Analytica\\\\train.csv\")\n",
    "\n",
    "# Perform mean imputation on missing values\n",
    "#home_data.fillna(home_data.mean(), inplace=True)\n",
    "# Select only the numeric columns\n",
    "numeric_cols = home_data.select_dtypes(include=np.number).columns.tolist()\n",
    "\n",
    "# Perform mean imputation on missing values\n",
    "#home_data[numeric_cols] = home_data[numeric_cols].fillna(home_data[numeric_cols].mean())\n",
    "home_data[numeric_cols] = home_data[numeric_cols].fillna(home_data[numeric_cols].mean())\n",
    "\n",
    "\n",
    "# Perform one-hot encoding on categorical variables\n",
    "categorical_features = ['MSZoning', 'Street', 'Alley', 'LotShape', 'LandContour', 'Utilities', 'LotConfig', 'LandSlope', 'Neighborhood', 'Condition1', 'Condition2', 'BldgType', 'HouseStyle', 'RoofStyle', 'RoofMatl', 'Exterior1st', 'Exterior2nd', 'MasVnrType', 'ExterQual', 'ExterCond', 'Foundation', 'BsmtQual', 'BsmtCond', 'BsmtExposure', 'BsmtFinType1', 'BsmtFinType2', 'Heating', 'HeatingQC', 'CentralAir', 'Electrical', 'KitchenQual', 'Functional', 'FireplaceQu', 'GarageType', 'GarageFinish', 'GarageQual', 'GarageCond', 'PavedDrive', 'PoolQC', 'Fence', 'MiscFeature', 'SaleType', 'SaleCondition']\n",
    "home_data = pd.get_dummies(home_data, columns=categorical_features)\n",
    "\n",
    "# Split the data into features and target variable\n",
    "X = home_data.drop('SalePrice', axis=1)\n",
    "y = home_data['SalePrice']\n",
    "\n",
    "# Select only the relevant features using RFECV\n",
    "scaler = MinMaxScaler()\n",
    "X_scaled = scaler.fit_transform(X)\n",
    "rf = RandomForestRegressor(random_state=42)\n",
    "rfecv = RFECV(estimator=rf, step=1, cv=5, scoring='neg_mean_squared_error')\n",
    "rfecv.fit(X_scaled, y)\n",
    "X_selected = X.iloc[:, rfecv.support_]\n",
    "\n",
    "# Split the data into training and testing sets\n",
    "X_train, X_test, y_train, y_test = train_test_split(X_selected, y, test_size=0.2, random_state=42)\n",
    "\n",
    "# Create a Random Forest Regression model\n",
    "rf_model = RandomForestRegressor(random_state=42)\n",
    "\n",
    "# Fit the model to the training data\n",
    "rf_model.fit(X_train, y_train)\n",
    "\n",
    "# Make predictions on the testing data\n",
    "y_pred = rf_model.predict(X_test)\n",
    "\n",
    "# Calculate the mean squared error of the predictions\n",
    "mse = mean_squared_error(y_test, y_pred)\n",
    "print(\"Mean Squared Error: \", mse)\n",
    "\n"
   ]
  },
  {
   "cell_type": "code",
   "execution_count": null,
   "id": "d12f23bb",
   "metadata": {},
   "outputs": [],
   "source": []
  }
 ],
 "metadata": {
  "kernelspec": {
   "display_name": "Python 3 (ipykernel)",
   "language": "python",
   "name": "python3"
  },
  "language_info": {
   "codemirror_mode": {
    "name": "ipython",
    "version": 3
   },
   "file_extension": ".py",
   "mimetype": "text/x-python",
   "name": "python",
   "nbconvert_exporter": "python",
   "pygments_lexer": "ipython3",
   "version": "3.9.13"
  }
 },
 "nbformat": 4,
 "nbformat_minor": 5
}
